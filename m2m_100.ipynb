{
 "cells": [
  {
   "cell_type": "code",
   "execution_count": 27,
   "metadata": {},
   "outputs": [],
   "source": [
    "import pandas as pd\n",
    "\n",
    "# Load the input file\n",
    "input_file_path = 'dev.guj_Gujr'\n",
    "\n",
    "# Read the input file\n",
    "with open(input_file_path, 'r', encoding='utf-8') as file:\n",
    "    input_text_guj = file.read()\n",
    "\n",
    "# Load the input file\n",
    "input_file_path = 'dev.glg_Latn'\n",
    "\n",
    "# Read the input file\n",
    "with open(input_file_path, 'r', encoding='utf-8') as file:\n",
    "    input_text_glg = file.read()\n",
    "\n",
    "# Load the input file\n",
    "input_file_path = 'dev.khm_Khmr'\n",
    "\n",
    "# Read the input file\n",
    "with open(input_file_path, 'r', encoding='utf-8') as file:\n",
    "    input_text_khm = file.read()\n",
    "\n",
    "# Load the input file\n",
    "input_file_path = 'dev.mya_Mymr'\n",
    "\n",
    "# Read the input file\n",
    "with open(input_file_path, 'r', encoding='utf-8') as file:\n",
    "    input_text_mya = file.read()\n",
    "\n",
    "# Load the input file\n",
    "input_file_path = 'dev.npi_Deva'\n",
    "\n",
    "# Read the input file\n",
    "with open(input_file_path, 'r', encoding='utf-8') as file:\n",
    "    input_text_npi = file.read()"
   ]
  },
  {
   "cell_type": "code",
   "execution_count": 29,
   "metadata": {},
   "outputs": [
    {
     "name": "stdout",
     "output_type": "stream",
     "text": [
      "Testing translation from gujarati to English:\n",
      "Testing translation from nepali to English:\n",
      "Testing translation from burmese to English:\n",
      "Testing translation from khmer to English:\n",
      "Testing translation from galician to English:\n"
     ]
    }
   ],
   "source": [
    "from transformers import M2M100ForConditionalGeneration, M2M100Tokenizer\n",
    "\n",
    "# Load pre-trained M2M100 model and tokenizer\n",
    "model_name = 'facebook/m2m100_418M'\n",
    "tokenizer = M2M100Tokenizer.from_pretrained(model_name)\n",
    "model = M2M100ForConditionalGeneration.from_pretrained(model_name)\n",
    "\n",
    "# Correct language codes for M2M100\n",
    "language_codes = {\n",
    "    'gujarati': 'gu',\n",
    "    'nepali': 'ne',\n",
    "    'burmese': 'my',\n",
    "    'khmer': 'km',\n",
    "    'galician': 'gl',\n",
    "    'english': 'en'\n",
    "}\n",
    "\n",
    "# Test sentences in different languages\n",
    "test_sentences = {\n",
    "    'gujarati': input_text_guj,  \n",
    "    'nepali': input_text_npi,  \n",
    "    'burmese': input_text_mya,  \n",
    "    'khmer': input_text_khm,  \n",
    "    'galician': input_text_glg  \n",
    "}\n",
    "\n",
    "# Function to test translation\n",
    "def test_translation(source_text, source_lang, target_lang='en', max_length=128):\n",
    "    # Set the source language\n",
    "    tokenizer.src_lang = source_lang\n",
    "    # Encode the source text\n",
    "    encoded_text = tokenizer(source_text, return_tensors=\"pt\", truncation=True, padding='max_length', max_length=max_length)\n",
    "    # Generate the translation\n",
    "    generated_tokens = model.generate(**encoded_text, forced_bos_token_id=tokenizer.get_lang_id(target_lang))\n",
    "    # Decode the translation\n",
    "    translated_text = tokenizer.decode(generated_tokens[0], skip_special_tokens=True)\n",
    "    return translated_text\n",
    "\n",
    "# Test translations\n",
    "for lang, text in test_sentences.items():\n",
    "    print(f\"Testing translation from {lang} to English:\")\n",
    "    translated_text = test_translation(text, language_codes[lang])\n",
    "    # Open a file in write mode ('w') and save the string\n",
    "    with open(f\"{lang}.txt\", \"w\") as file:\n",
    "        file.write(translated_text)\n"
   ]
  }
 ],
 "metadata": {
  "kernelspec": {
   "display_name": "base",
   "language": "python",
   "name": "python3"
  },
  "language_info": {
   "codemirror_mode": {
    "name": "ipython",
    "version": 3
   },
   "file_extension": ".py",
   "mimetype": "text/x-python",
   "name": "python",
   "nbconvert_exporter": "python",
   "pygments_lexer": "ipython3",
   "version": "3.10.10"
  }
 },
 "nbformat": 4,
 "nbformat_minor": 2
}
